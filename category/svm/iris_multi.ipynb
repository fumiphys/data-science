{
 "cells": [
  {
   "cell_type": "markdown",
   "metadata": {},
   "source": [
    "# Support Vector Machine\n",
    "multi category version"
   ]
  },
  {
   "cell_type": "code",
   "execution_count": 1,
   "metadata": {},
   "outputs": [],
   "source": [
    "import numpy as np\n",
    "import pandas as pd\n",
    "from matplotlib import pyplot as plt\n",
    "%matplotlib inline\n",
    "from sklearn import datasets, svm"
   ]
  },
  {
   "cell_type": "code",
   "execution_count": 5,
   "metadata": {},
   "outputs": [],
   "source": [
    "# datasets\n",
    "iris = datasets.load_iris()\n",
    "data = iris.data\n",
    "target = iris.target\n",
    "target_names = iris.target_names\n",
    "labels = target_names[target]"
   ]
  },
  {
   "cell_type": "code",
   "execution_count": 8,
   "metadata": {},
   "outputs": [],
   "source": [
    "setosa_pl = data[labels == 'setosa', 2]\n",
    "setosa_pw = data[labels == 'setosa', 3]\n",
    "setosa_p = np.c_[setosa_pl, setosa_pw]\n",
    "versicolor_pl = data[labels == 'versicolor', 2]\n",
    "versicolor_pw = data[labels == 'versicolor', 3]\n",
    "versicolor_p = np.c_[versicolor_pl, versicolor_pw]\n",
    "virginica_pl = data[labels == 'virginica', 2]\n",
    "virginica_pw = data[labels == 'virginica', 3]\n",
    "virginica_p = np.c_[virginica_pl, virginica_pw]"
   ]
  },
  {
   "cell_type": "code",
   "execution_count": 12,
   "metadata": {},
   "outputs": [
    {
     "data": {
      "text/plain": [
       "<matplotlib.collections.PathCollection at 0x11aefd898>"
      ]
     },
     "execution_count": 12,
     "metadata": {},
     "output_type": "execute_result"
    },
    {
     "data": {
      "image/png": "[encoded data removed]",
      "text/plain": [
       "<Figure size 432x288 with 1 Axes>"
      ]
     },
     "metadata": {},
     "output_type": "display_data"
    }
   ],
   "source": [
    "# visualize data\n",
    "plt.scatter(setosa_p[:, 0], setosa_p[:, 1], color='red')\n",
    "plt.scatter(versicolor_p[:, 0], versicolor_p[:, 1], color='blue')\n",
    "plt.scatter(virginica_p[:, 0], virginica_p[:, 1], color='green')"
   ]
  },
  {
   "cell_type": "code",
   "execution_count": 13,
   "metadata": {},
   "outputs": [],
   "source": [
    "# training data\n",
    "x_train = np.r_[setosa_p, versicolor_p, virginica_p]\n",
    "y_train = np.r_[np.zeros(len(setosa_p)),\n",
    "               np.ones(len(versicolor_p)),\n",
    "               np.ones(len(virginica_p))*2]"
   ]
  },
  {
   "cell_type": "code",
   "execution_count": 14,
   "metadata": {},
   "outputs": [
    {
     "data": {
      "text/plain": [
       "LinearSVC(C=1.0, class_weight=None, dual=True, fit_intercept=True,\n",
       "     intercept_scaling=1, loss='squared_hinge', max_iter=1000,\n",
       "     multi_class='ovr', penalty='l2', random_state=None, tol=0.0001,\n",
       "     verbose=0)"
      ]
     },
     "execution_count": 14,
     "metadata": {},
     "output_type": "execute_result"
    }
   ],
   "source": [
    "# define model\n",
    "lsvm = svm.LinearSVC()\n",
    "lsvm.fit(x_train, y_train)"
   ]
  },
  {
   "cell_type": "code",
   "execution_count": 16,
   "metadata": {},
   "outputs": [],
   "source": [
    "# visualize\n",
    "xx, yy = np.meshgrid(\n",
    "    np.arange(x_train[:, 0].min()-1, x_train[:, 0].max()+1, 0.02),\n",
    "    np.arange(x_train[:, 1].min()-1, x_train[:, 1].max()+1, 0.02),\n",
    ")"
   ]
  },
  {
   "cell_type": "code",
   "execution_count": 18,
   "metadata": {},
   "outputs": [],
   "source": [
    "# prediction\n",
    "z = lsvm.predict(np.c_[xx.ravel(), yy.ravel()]).reshape(xx.shape)"
   ]
  },
  {
   "cell_type": "code",
   "execution_count": 19,
   "metadata": {},
   "outputs": [
    {
     "data": {
      "image/png": "[encoded data removed]",
      "text/plain": [
       "<Figure size 432x288 with 1 Axes>"
      ]
     },
     "metadata": {},
     "output_type": "display_data"
    }
   ],
   "source": [
    "plt.contourf(xx, yy, z, cmap=plt.cm.bone, alpha=0.2)\n",
    "plt.autoscale()\n",
    "plt.grid()\n",
    "plt.scatter(setosa_p[:, 0], setosa_p[:, 1], color='red')\n",
    "plt.scatter(versicolor_p[:, 0], versicolor_p[:, 1], color='blue')\n",
    "plt.scatter(virginica_p[:, 0], virginica_p[:, 1], color='green')\n",
    "plt.show()"
   ]
  },
  {
   "cell_type": "code",
   "execution_count": null,
   "metadata": {},
   "outputs": [],
   "source": []
  }
 ],
 "metadata": {
  "kernelspec": {
   "display_name": "Python 3",
   "language": "python",
   "name": "python3"
  },
  "language_info": {
   "codemirror_mode": {
    "name": "ipython",
    "version": 3
   },
   "file_extension": ".py",
   "mimetype": "text/x-python",
   "name": "python",
   "nbconvert_exporter": "python",
   "pygments_lexer": "ipython3",
   "version": "3.7.0"
  }
 },
 "nbformat": 4,
 "nbformat_minor": 2
}
