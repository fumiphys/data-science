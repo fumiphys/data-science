{
 "cells": [
  {
   "cell_type": "markdown",
   "metadata": {},
   "source": [
    "# Tensorflow for house prices\n",
    "tensorflow tutorial  \n",
    "reference: https://www.tensorflow.org/tutorials/keras/basic_regression?hl=ja"
   ]
  },
  {
   "cell_type": "code",
   "execution_count": 11,
   "metadata": {},
   "outputs": [],
   "source": [
    "import tensorflow as tf\n",
    "from tensorflow import keras\n",
    "import numpy as np\n",
    "from matplotlib import pyplot as plt\n",
    "import pandas as pd\n",
    "%matplotlib inline"
   ]
  },
  {
   "cell_type": "code",
   "execution_count": 7,
   "metadata": {},
   "outputs": [
    {
     "data": {
      "text/plain": [
       "array([32. , 27.5, 32. , 23.1, 50. , 20.6, 22.6, 36.2, 21.8, 19.5, 15. ,\n",
       "       15.6, 50. , 30.1, 12.5, 22.2, 26.5, 50. ,  8.3, 16.5, 17.8, 15.7,\n",
       "       19.3, 26.6, 29. , 15.6, 18.7, 24.1, 13.3,  8.5, 19.5, 13.1, 11.7,\n",
       "       25. , 24.8, 20.6, 12.1, 19.6, 25. , 22.7, 14.6, 17.1, 50. , 22.6,\n",
       "       13.1, 20.6, 18.4, 24.8, 25. , 18.1, 16.8, 16.1, 24.4, 18.5, 21. ,\n",
       "       19.1, 16.1, 18.2, 15.3, 20.4, 17.8, 23. ,  7.2, 16.7, 33.4, 13.8,\n",
       "       43.8, 28.6, 18.3, 18.7, 17.3, 19.4, 11.9, 20.6, 23.7, 50. , 22.6,\n",
       "       25.3, 24.8, 18.7, 21.7, 20.6, 23.2, 26.4, 33.2, 15.2, 41.3, 23.9,\n",
       "       31. , 13.4, 23.9, 14.9, 22.8, 28. , 20.4, 12.8, 20.6, 21.4, 14.8,\n",
       "       15.6, 30.1, 11. , 25. , 11.7, 16.3, 33.4, 22.9, 29.1, 21. , 31.1,\n",
       "       19.3, 23.4, 28.7, 16. , 23.2, 17.2, 26.6, 17.8, 22.3, 20.8, 25.2,\n",
       "       28.5, 23.3, 20.1, 19.3, 19.4, 12.7, 37.3, 13.9, 19.6, 12.7, 15.6,\n",
       "       32.2, 12.6,  7.5, 23.7, 22.8, 22.2, 44.8, 36.5, 31.6, 22.9, 14.4,\n",
       "       14.3,  5. , 19.1, 22.5, 10.9, 23. , 21.4,  8.8, 17.9, 17.5, 11.9,\n",
       "       19.3,  8.5, 12.7, 41.7, 19.6, 17.4, 21.4, 23.1, 28.2, 18.2, 16.5,\n",
       "       26.2, 13.6, 22.5, 24.4, 18. , 20. , 19.9, 14.9, 50. , 20. , 23.1,\n",
       "       13.4,  8.4, 19.4, 50. , 23.9, 22. , 12.3, 27.9, 20.4, 20.4, 33.3,\n",
       "       22. , 24.6, 13.3, 14.6, 33.2, 18.5, 24.7, 19.8, 19.4, 24.7, 19.5,\n",
       "       22. , 16.2, 45.4, 13.5, 17.1, 22.4, 22. , 15.2, 14.9, 25. , 28.7,\n",
       "       16.8, 29.9, 32.7, 21.1, 21.7, 22.1, 11.8, 11.8, 11.5, 22.2, 33.1,\n",
       "       10.9, 48.3, 50. , 22.5, 13.3, 23.1, 19.2, 43.5, 29.1, 20.2, 23.9,\n",
       "        5. ,  7. , 22.8, 29. , 11.3, 24. , 23.3, 21.7, 10.4, 50. , 16.4,\n",
       "       24.4, 21.2, 42.3,  8.3, 14. , 17.8, 23.7, 23.1,  8.4, 22.9, 21.6,\n",
       "       13.9, 18.4, 23.6, 20.1, 15.6, 20.5, 14.5, 17.4, 23. , 50. , 19.1,\n",
       "       19.7, 34.7, 21. , 27.9, 24.5, 21.4, 24.8, 22.2, 18.4, 16.1, 10.5,\n",
       "       30.5, 13.5, 34.9, 21.9, 31.5, 19.5, 19.2, 17.1, 24. , 13.8, 20.8,\n",
       "       21.2, 18.9,  8.7, 10.2, 19.9, 13.1, 28.7, 23.8, 20.3, 17.2, 29.8,\n",
       "       19.7, 34.6, 14.3, 46. , 30.8, 18.8, 35.2, 48.8, 37.9, 18.3,  8.8,\n",
       "       17. , 39.8, 31.7, 19.4, 15. , 18.2, 13.8, 23.8, 24.7, 13.8, 50. ,\n",
       "       23.3, 24.3, 24.4, 10.4, 33.8, 38.7, 30.7, 25.1, 23.7, 48.5, 20.3,\n",
       "       13.4, 15.2, 17.4, 19.6, 18.9, 15. , 23.9, 37.6, 36.2, 14.1, 17.2,\n",
       "       22.6, 20.5,  6.3, 21.2, 31.5, 22.6, 21.1, 13.8, 20.7, 24.1,  9.6,\n",
       "       10.5, 44. , 13.6, 32.9, 13.4, 23.3, 23.6, 37. , 19.3, 50. , 23.5,\n",
       "       18.9, 17.5, 19.4, 20.1, 37.2, 19.9, 21.7, 30.3, 23.1, 36.1, 24.6,\n",
       "       22. , 23.8, 16.7, 20.3, 18.5, 13.2, 50. , 36.4, 16.6, 21.7, 17.5,\n",
       "       34.9, 22.8, 27.1, 22.3, 17.7, 19.9, 20.7, 10.8, 20. , 27.5, 21.8,\n",
       "       31.6, 20. , 14.4, 15.1, 19. , 21.7, 29.4, 14.2])"
      ]
     },
     "execution_count": 7,
     "metadata": {},
     "output_type": "execute_result"
    }
   ],
   "source": [
    "# datasets\n",
    "boston_housing = keras.datasets.boston_housing\n",
    "\n",
    "(train_data, train_labels), (test_data, test_labels) = boston_housing.load_data()\n",
    "\n",
    "order = np.argsort(np.random.random(train_labels.shape))\n",
    "train_data = train_data[order]\n",
    "train_labels = train_labels[order]\n",
    "train_data\n",
    "train_labels"
   ]
  },
  {
   "cell_type": "code",
   "execution_count": 10,
   "metadata": {},
   "outputs": [
    {
     "name": "stdout",
     "output_type": "stream",
     "text": [
      "(404, 13)\n",
      "(102, 13)\n"
     ]
    },
    {
     "data": {
      "text/plain": [
       "array([7.8750e-02, 4.5000e+01, 3.4400e+00, 0.0000e+00, 4.3700e-01,\n",
       "       6.7820e+00, 4.1100e+01, 3.7886e+00, 5.0000e+00, 3.9800e+02,\n",
       "       1.5200e+01, 3.9387e+02, 6.6800e+00])"
      ]
     },
     "execution_count": 10,
     "metadata": {},
     "output_type": "execute_result"
    }
   ],
   "source": [
    "print(train_data.shape)\n",
    "print(test_data.shape)\n",
    "train_data[0]"
   ]
  },
  {
   "cell_type": "code",
   "execution_count": 13,
   "metadata": {},
   "outputs": [
    {
     "data": {
      "text/html": [
       "<div>\n",
       "<style scoped>\n",
       "    .dataframe tbody tr th:only-of-type {\n",
       "        vertical-align: middle;\n",
       "    }\n",
       "\n",
       "    .dataframe tbody tr th {\n",
       "        vertical-align: top;\n",
       "    }\n",
       "\n",
       "    .dataframe thead th {\n",
       "        text-align: right;\n",
       "    }\n",
       "</style>\n",
       "<table border=\"1\" class=\"dataframe\">\n",
       "  <thead>\n",
       "    <tr style=\"text-align: right;\">\n",
       "      <th></th>\n",
       "      <th>CRIM</th>\n",
       "      <th>ZN</th>\n",
       "      <th>INDUS</th>\n",
       "      <th>CHAS</th>\n",
       "      <th>NOX</th>\n",
       "      <th>RM</th>\n",
       "      <th>AGE</th>\n",
       "      <th>DIS</th>\n",
       "      <th>RAD</th>\n",
       "      <th>TAX</th>\n",
       "      <th>PTRATIO</th>\n",
       "      <th>B</th>\n",
       "      <th>LSTAT</th>\n",
       "    </tr>\n",
       "  </thead>\n",
       "  <tbody>\n",
       "    <tr>\n",
       "      <th>count</th>\n",
       "      <td>404.000000</td>\n",
       "      <td>404.000000</td>\n",
       "      <td>404.000000</td>\n",
       "      <td>404.000000</td>\n",
       "      <td>404.000000</td>\n",
       "      <td>404.000000</td>\n",
       "      <td>404.000000</td>\n",
       "      <td>404.000000</td>\n",
       "      <td>404.000000</td>\n",
       "      <td>404.000000</td>\n",
       "      <td>404.000000</td>\n",
       "      <td>404.000000</td>\n",
       "      <td>404.000000</td>\n",
       "    </tr>\n",
       "    <tr>\n",
       "      <th>mean</th>\n",
       "      <td>3.745111</td>\n",
       "      <td>11.480198</td>\n",
       "      <td>11.104431</td>\n",
       "      <td>0.061881</td>\n",
       "      <td>0.557356</td>\n",
       "      <td>6.267082</td>\n",
       "      <td>69.010644</td>\n",
       "      <td>3.740271</td>\n",
       "      <td>9.440594</td>\n",
       "      <td>405.898515</td>\n",
       "      <td>18.475990</td>\n",
       "      <td>354.783168</td>\n",
       "      <td>12.740817</td>\n",
       "    </tr>\n",
       "    <tr>\n",
       "      <th>std</th>\n",
       "      <td>9.240734</td>\n",
       "      <td>23.767711</td>\n",
       "      <td>6.811308</td>\n",
       "      <td>0.241238</td>\n",
       "      <td>0.117293</td>\n",
       "      <td>0.709788</td>\n",
       "      <td>27.940665</td>\n",
       "      <td>2.030215</td>\n",
       "      <td>8.698360</td>\n",
       "      <td>166.374543</td>\n",
       "      <td>2.200382</td>\n",
       "      <td>94.111148</td>\n",
       "      <td>7.254545</td>\n",
       "    </tr>\n",
       "    <tr>\n",
       "      <th>min</th>\n",
       "      <td>0.006320</td>\n",
       "      <td>0.000000</td>\n",
       "      <td>0.460000</td>\n",
       "      <td>0.000000</td>\n",
       "      <td>0.385000</td>\n",
       "      <td>3.561000</td>\n",
       "      <td>2.900000</td>\n",
       "      <td>1.129600</td>\n",
       "      <td>1.000000</td>\n",
       "      <td>188.000000</td>\n",
       "      <td>12.600000</td>\n",
       "      <td>0.320000</td>\n",
       "      <td>1.730000</td>\n",
       "    </tr>\n",
       "    <tr>\n",
       "      <th>25%</th>\n",
       "      <td>0.081437</td>\n",
       "      <td>0.000000</td>\n",
       "      <td>5.130000</td>\n",
       "      <td>0.000000</td>\n",
       "      <td>0.453000</td>\n",
       "      <td>5.874750</td>\n",
       "      <td>45.475000</td>\n",
       "      <td>2.077100</td>\n",
       "      <td>4.000000</td>\n",
       "      <td>279.000000</td>\n",
       "      <td>17.225000</td>\n",
       "      <td>374.672500</td>\n",
       "      <td>6.890000</td>\n",
       "    </tr>\n",
       "    <tr>\n",
       "      <th>50%</th>\n",
       "      <td>0.268880</td>\n",
       "      <td>0.000000</td>\n",
       "      <td>9.690000</td>\n",
       "      <td>0.000000</td>\n",
       "      <td>0.538000</td>\n",
       "      <td>6.198500</td>\n",
       "      <td>78.500000</td>\n",
       "      <td>3.142300</td>\n",
       "      <td>5.000000</td>\n",
       "      <td>330.000000</td>\n",
       "      <td>19.100000</td>\n",
       "      <td>391.250000</td>\n",
       "      <td>11.395000</td>\n",
       "    </tr>\n",
       "    <tr>\n",
       "      <th>75%</th>\n",
       "      <td>3.674808</td>\n",
       "      <td>12.500000</td>\n",
       "      <td>18.100000</td>\n",
       "      <td>0.000000</td>\n",
       "      <td>0.631000</td>\n",
       "      <td>6.609000</td>\n",
       "      <td>94.100000</td>\n",
       "      <td>5.118000</td>\n",
       "      <td>24.000000</td>\n",
       "      <td>666.000000</td>\n",
       "      <td>20.200000</td>\n",
       "      <td>396.157500</td>\n",
       "      <td>17.092500</td>\n",
       "    </tr>\n",
       "    <tr>\n",
       "      <th>max</th>\n",
       "      <td>88.976200</td>\n",
       "      <td>100.000000</td>\n",
       "      <td>27.740000</td>\n",
       "      <td>1.000000</td>\n",
       "      <td>0.871000</td>\n",
       "      <td>8.725000</td>\n",
       "      <td>100.000000</td>\n",
       "      <td>10.710300</td>\n",
       "      <td>24.000000</td>\n",
       "      <td>711.000000</td>\n",
       "      <td>22.000000</td>\n",
       "      <td>396.900000</td>\n",
       "      <td>37.970000</td>\n",
       "    </tr>\n",
       "  </tbody>\n",
       "</table>\n",
       "</div>"
      ],
      "text/plain": [
       "             CRIM          ZN       INDUS        CHAS         NOX          RM  \\\n",
       "count  404.000000  404.000000  404.000000  404.000000  404.000000  404.000000   \n",
       "mean     3.745111   11.480198   11.104431    0.061881    0.557356    6.267082   \n",
       "std      9.240734   23.767711    6.811308    0.241238    0.117293    0.709788   \n",
       "min      0.006320    0.000000    0.460000    0.000000    0.385000    3.561000   \n",
       "25%      0.081437    0.000000    5.130000    0.000000    0.453000    5.874750   \n",
       "50%      0.268880    0.000000    9.690000    0.000000    0.538000    6.198500   \n",
       "75%      3.674808   12.500000   18.100000    0.000000    0.631000    6.609000   \n",
       "max     88.976200  100.000000   27.740000    1.000000    0.871000    8.725000   \n",
       "\n",
       "              AGE         DIS         RAD         TAX     PTRATIO           B  \\\n",
       "count  404.000000  404.000000  404.000000  404.000000  404.000000  404.000000   \n",
       "mean    69.010644    3.740271    9.440594  405.898515   18.475990  354.783168   \n",
       "std     27.940665    2.030215    8.698360  166.374543    2.200382   94.111148   \n",
       "min      2.900000    1.129600    1.000000  188.000000   12.600000    0.320000   \n",
       "25%     45.475000    2.077100    4.000000  279.000000   17.225000  374.672500   \n",
       "50%     78.500000    3.142300    5.000000  330.000000   19.100000  391.250000   \n",
       "75%     94.100000    5.118000   24.000000  666.000000   20.200000  396.157500   \n",
       "max    100.000000   10.710300   24.000000  711.000000   22.000000  396.900000   \n",
       "\n",
       "            LSTAT  \n",
       "count  404.000000  \n",
       "mean    12.740817  \n",
       "std      7.254545  \n",
       "min      1.730000  \n",
       "25%      6.890000  \n",
       "50%     11.395000  \n",
       "75%     17.092500  \n",
       "max     37.970000  "
      ]
     },
     "execution_count": 13,
     "metadata": {},
     "output_type": "execute_result"
    }
   ],
   "source": [
    "column_names = ['CRIM', 'ZN', 'INDUS', 'CHAS', 'NOX', 'RM', 'AGE', 'DIS', 'RAD',\n",
    "                'TAX', 'PTRATIO', 'B', 'LSTAT']\n",
    "df = pd.DataFrame(train_data, columns=column_names)\n",
    "df.head()\n",
    "df.describe()"
   ]
  },
  {
   "cell_type": "code",
   "execution_count": 18,
   "metadata": {},
   "outputs": [],
   "source": [
    "# normalize data\n",
    "mean = train_data.mean(axis=0)\n",
    "std = train_data.std(axis=0)\n",
    "train_data = (train_data - mean) / std\n",
    "test_data = (test_data - mean) / std"
   ]
  },
  {
   "cell_type": "code",
   "execution_count": 23,
   "metadata": {},
   "outputs": [],
   "source": [
    "# define model\n",
    "def build_model():\n",
    "    model = keras.Sequential([\n",
    "        keras.layers.Dense(64, activation=tf.nn.relu, input_shape=(train_data.shape[1],)),\n",
    "        keras.layers.Dense(64, activation=tf.nn.relu),\n",
    "        keras.layers.Dense(1)\n",
    "    ])\n",
    "    optimizer = tf.train.RMSPropOptimizer(0.001)\n",
    "    model.compile(loss='mse',\n",
    "                 optimizer=optimizer,\n",
    "                 metrics=['mae'])\n",
    "    return model"
   ]
  },
  {
   "cell_type": "code",
   "execution_count": 41,
   "metadata": {},
   "outputs": [
    {
     "name": "stdout",
     "output_type": "stream",
     "text": [
      "_________________________________________________________________\n",
      "Layer (type)                 Output Shape              Param #   \n",
      "=================================================================\n",
      "dense_7 (Dense)              (None, 64)                896       \n",
      "_________________________________________________________________\n",
      "dense_8 (Dense)              (None, 64)                4160      \n",
      "_________________________________________________________________\n",
      "dense_9 (Dense)              (None, 1)                 65        \n",
      "=================================================================\n",
      "Total params: 5,121\n",
      "Trainable params: 5,121\n",
      "Non-trainable params: 0\n",
      "_________________________________________________________________\n"
     ]
    }
   ],
   "source": [
    "model = build_model()\n",
    "model.summary()"
   ]
  },
  {
   "cell_type": "code",
   "execution_count": 42,
   "metadata": {},
   "outputs": [
    {
     "name": "stdout",
     "output_type": "stream",
     "text": [
      "\n",
      "................................................................................."
     ]
    }
   ],
   "source": [
    "# train data\n",
    "class PrintDot(keras.callbacks.Callback):\n",
    "    def on_epoch_end(self, epoch, logs):\n",
    "        if epoch % 100 == 0:\n",
    "            print(\"\")\n",
    "        else:\n",
    "            print(\".\", end='')\n",
    "            \n",
    "EPOCHS = 500\n",
    "# early stop\n",
    "early_stop = keras.callbacks.EarlyStopping(monitor='val_loss', patience=20)\n",
    "history = model.fit(train_data, train_labels, epochs=EPOCHS, validation_split=0.2, verbose=0, callbacks=[early_stop, PrintDot()])"
   ]
  },
  {
   "cell_type": "code",
   "execution_count": 43,
   "metadata": {},
   "outputs": [
    {
     "data": {
      "image/png": "[encoded data removed]",
      "text/plain": [
       "<Figure size 432x288 with 1 Axes>"
      ]
     },
     "metadata": {},
     "output_type": "display_data"
    }
   ],
   "source": [
    "def plot_history(history):\n",
    "    plt.figure()\n",
    "    plt.xlabel('epoch')\n",
    "    plt.ylabel('mae')\n",
    "    plt.plot(history.epoch, np.array(history.history['mean_absolute_error']),\n",
    "            label='train_loss')\n",
    "    plt.plot(history.epoch, np.array(history.history['val_mean_absolute_error']),\n",
    "            label='val_loss')\n",
    "    plt.legend()\n",
    "    plt.ylim([0, 5])\n",
    "    \n",
    "plot_history(history)"
   ]
  },
  {
   "cell_type": "code",
   "execution_count": 45,
   "metadata": {},
   "outputs": [
    {
     "name": "stdout",
     "output_type": "stream",
     "text": [
      "23.624076693665746 3.317365749209535\n"
     ]
    }
   ],
   "source": [
    "# test data\n",
    "[loss, mae] = model.evaluate(test_data, test_labels, verbose=0)\n",
    "print(loss, mae)"
   ]
  },
  {
   "cell_type": "code",
   "execution_count": 48,
   "metadata": {},
   "outputs": [
    {
     "data": {
      "text/plain": [
       "array([ 9.36554 , 17.88502 , 20.846924, 31.175493, 25.085981, 19.08364 ,\n",
       "       22.454542, 21.057867, 18.810171, 22.742666, 16.100462, 16.679422,\n",
       "       15.564481, 39.451454, 18.419058, 18.884993, 26.490465, 17.792242,\n",
       "       19.534292, 28.596285, 11.555925, 15.693106, 20.985888, 15.403813,\n",
       "       19.688334, 25.857855, 30.25419 , 27.079317, 11.060478, 19.6456  ,\n",
       "       18.755468, 14.661319, 32.546177, 24.704336, 17.74011 ,  8.597883,\n",
       "       16.273336, 17.589394, 21.681162, 23.801363, 27.911787, 27.114027,\n",
       "       14.004719, 38.64486 , 30.762691, 25.022429, 26.50114 , 15.987947,\n",
       "       22.332008, 21.554514, 31.20209 , 18.273932, 11.844957, 16.658712,\n",
       "       32.30697 , 26.919283, 12.096565, 45.903397, 33.979393, 22.180357,\n",
       "       25.111567, 16.039404, 14.182985, 17.700396, 22.9876  , 20.408936,\n",
       "       13.19899 , 21.047361, 13.574501,  7.971544, 28.6334  , 26.523493,\n",
       "       26.486168, 14.932066, 23.99011 , 16.625952, 18.78051 , 22.59569 ,\n",
       "       33.195484, 10.790781, 19.989317, 36.420074, 15.205517, 13.532681,\n",
       "       16.481092, 17.853468, 19.13013 , 20.463276, 20.760904, 32.68821 ,\n",
       "       20.249178, 17.823233, 24.39681 , 38.185623, 33.97357 , 20.48419 ,\n",
       "       34.739197, 51.39826 , 26.79098 , 45.856018, 31.957642, 20.963053],\n",
       "      dtype=float32)"
      ]
     },
     "execution_count": 48,
     "metadata": {},
     "output_type": "execute_result"
    }
   ],
   "source": [
    "# prediction\n",
    "predictions = model.predict(test_data).flatten()\n",
    "predictions"
   ]
  },
  {
   "cell_type": "code",
   "execution_count": null,
   "metadata": {},
   "outputs": [],
   "source": []
  }
 ],
 "metadata": {
  "kernelspec": {
   "display_name": "Python 3",
   "language": "python",
   "name": "python3"
  },
  "language_info": {
   "codemirror_mode": {
    "name": "ipython",
    "version": 3
   },
   "file_extension": ".py",
   "mimetype": "text/x-python",
   "name": "python",
   "nbconvert_exporter": "python",
   "pygments_lexer": "ipython3",
   "version": "3.6.0"
  }
 },
 "nbformat": 4,
 "nbformat_minor": 2
}
