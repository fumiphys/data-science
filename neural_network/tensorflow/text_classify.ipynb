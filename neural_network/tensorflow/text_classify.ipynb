{
 "cells": [
  {
   "cell_type": "markdown",
   "metadata": {},
   "source": [
    "# Tensorflow\n",
    "binary classification of text  \n",
    "reference: https://www.tensorflow.org/tutorials/keras/basic_text_classification?hl=ja"
   ]
  },
  {
   "cell_type": "code",
   "execution_count": 40,
   "metadata": {},
   "outputs": [],
   "source": [
    "import tensorflow as tf\n",
    "from tensorflow import keras\n",
    "import numpy as np\n",
    "from matplotlib import pyplot as plt\n",
    "%matplotlib inline"
   ]
  },
  {
   "cell_type": "code",
   "execution_count": 3,
   "metadata": {},
   "outputs": [
    {
     "name": "stdout",
     "output_type": "stream",
     "text": [
      "Downloading data from https://s3.amazonaws.com/text-datasets/imdb.npz\n",
      "17465344/17464789 [==============================] - 15s 1us/step\n"
     ]
    }
   ],
   "source": [
    "# datasets\n",
    "imdb = keras.datasets.imdb\n",
    "(train_data, train_labels), (test_data, test_lebels) = imdb.load_data(num_words=10000)"
   ]
  },
  {
   "cell_type": "code",
   "execution_count": 10,
   "metadata": {},
   "outputs": [
    {
     "data": {
      "text/plain": [
       "1"
      ]
     },
     "execution_count": 10,
     "metadata": {},
     "output_type": "execute_result"
    }
   ],
   "source": [
    "# about datasets\n",
    "len(train_data)\n",
    "len(test_data)\n",
    "len(train_data[0])\n",
    "len(train_data[1])\n",
    "train_labels[0]"
   ]
  },
  {
   "cell_type": "code",
   "execution_count": 24,
   "metadata": {},
   "outputs": [
    {
     "data": {
      "text/plain": [
       "\"<START> this film was just brilliant casting location scenery story direction everyone's really suited the part they played and you could just imagine being there robert <UNK> is an amazing actor and now the same being director <UNK> father came from the same scottish island as myself so i loved the fact there was a real connection with this film the witty remarks throughout the film were great it was just brilliant so much that i bought the film as soon as it was released for <UNK> and would recommend it to everyone to watch and the fly fishing was amazing really cried at the end it was so sad and you know what they say if you cry at a film it must have been good and this definitely was also <UNK> to the two little boy's that played the <UNK> of norman and paul they were just brilliant children are often left out of the <UNK> list i think because the stars that play them all grown up are such a big profile for the whole film but these children are amazing and should be praised for what they have done don't you think the whole story was so lovely because it was true and was someone's life after all that was shared with us all\""
      ]
     },
     "execution_count": 24,
     "metadata": {},
     "output_type": "execute_result"
    }
   ],
   "source": [
    "# map of word to integer\n",
    "word_index = imdb.get_word_index()\n",
    "\n",
    "word_index = {k: (v+3) for k, v in word_index.items()}\n",
    "word_index[\"<PAD>\"] = 0\n",
    "word_index[\"<START>\"] = 1\n",
    "word_index[\"<UNK>\"] = 2\n",
    "word_index[\"<UNUSED>\"] = 3\n",
    "\n",
    "reverse_word_index = dict([(v, k) for (k, v) in word_index.items()])\n",
    "\n",
    "# array to text\n",
    "def decode(text):\n",
    "    return ' '.join([reverse_word_index.get(i, '?') for i in text])\n",
    "\n",
    "decode([1, 2, 3])\n",
    "decode(train_data[0])"
   ]
  },
  {
   "cell_type": "code",
   "execution_count": 30,
   "metadata": {},
   "outputs": [
    {
     "data": {
      "text/plain": [
       "256"
      ]
     },
     "execution_count": 30,
     "metadata": {},
     "output_type": "execute_result"
    }
   ],
   "source": [
    "# preprocess\n",
    "train_data = keras.preprocessing.sequence.pad_sequences(train_data,\n",
    "                                                       value=word_index[\"<PAD>\"],\n",
    "                                                       padding='post',\n",
    "                                                       maxlen=256)\n",
    "test_data = keras.preprocessing.sequence.pad_sequences(test_data,\n",
    "                                                       value=word_index[\"<PAD>\"],\n",
    "                                                       padding='post',\n",
    "                                                       maxlen=256)\n",
    "len(train_data[0])\n",
    "len(train_data[1])"
   ]
  },
  {
   "cell_type": "code",
   "execution_count": 32,
   "metadata": {},
   "outputs": [
    {
     "name": "stdout",
     "output_type": "stream",
     "text": [
      "_________________________________________________________________\n",
      "Layer (type)                 Output Shape              Param #   \n",
      "=================================================================\n",
      "embedding_1 (Embedding)      (None, None, 16)          160000    \n",
      "_________________________________________________________________\n",
      "global_average_pooling1d_1 ( (None, 16)                0         \n",
      "_________________________________________________________________\n",
      "dense_2 (Dense)              (None, 16)                272       \n",
      "_________________________________________________________________\n",
      "dense_3 (Dense)              (None, 1)                 17        \n",
      "=================================================================\n",
      "Total params: 160,289\n",
      "Trainable params: 160,289\n",
      "Non-trainable params: 0\n",
      "_________________________________________________________________\n"
     ]
    }
   ],
   "source": [
    "# define model\n",
    "vocab_size = 10000\n",
    "model = keras.Sequential()\n",
    "model.add(keras.layers.Embedding(vocab_size, 16))\n",
    "model.add(keras.layers.GlobalAveragePooling1D())\n",
    "model.add(keras.layers.Dense(16, activation=tf.nn.relu))\n",
    "model.add(keras.layers.Dense(1, activation=tf.nn.sigmoid))\n",
    "\n",
    "model.summary()"
   ]
  },
  {
   "cell_type": "code",
   "execution_count": 33,
   "metadata": {},
   "outputs": [],
   "source": [
    "model.compile(optimizer=tf.train.AdamOptimizer(),\n",
    "             loss='binary_crossentropy',\n",
    "             metrics=['accuracy'])"
   ]
  },
  {
   "cell_type": "code",
   "execution_count": 34,
   "metadata": {},
   "outputs": [],
   "source": [
    "# split data for validation\n",
    "x_val = train_data[:10000]\n",
    "partial_x_train = train_data[10000:]\n",
    "y_val = train_labels[:10000]\n",
    "partial_y_train = train_labels[10000:]"
   ]
  },
  {
   "cell_type": "code",
   "execution_count": 35,
   "metadata": {},
   "outputs": [
    {
     "name": "stdout",
     "output_type": "stream",
     "text": [
      "Train on 15000 samples, validate on 10000 samples\n",
      "Epoch 1/40\n",
      "15000/15000 [==============================] - 1s 67us/step - loss: 0.6929 - acc: 0.5177 - val_loss: 0.6908 - val_acc: 0.5779\n",
      "Epoch 2/40\n",
      "15000/15000 [==============================] - 1s 37us/step - loss: 0.6892 - acc: 0.5719 - val_loss: 0.6884 - val_acc: 0.6225\n",
      "Epoch 3/40\n",
      "15000/15000 [==============================] - 1s 41us/step - loss: 0.6864 - acc: 0.6243 - val_loss: 0.6862 - val_acc: 0.5779\n",
      "Epoch 4/40\n",
      "15000/15000 [==============================] - 1s 39us/step - loss: 0.6825 - acc: 0.6558 - val_loss: 0.6827 - val_acc: 0.5225\n",
      "Epoch 5/40\n",
      "15000/15000 [==============================] - 1s 38us/step - loss: 0.6769 - acc: 0.6832 - val_loss: 0.6755 - val_acc: 0.7087\n",
      "Epoch 6/40\n",
      "15000/15000 [==============================] - 1s 49us/step - loss: 0.6694 - acc: 0.7389 - val_loss: 0.6676 - val_acc: 0.7176\n",
      "Epoch 7/40\n",
      "15000/15000 [==============================] - 1s 45us/step - loss: 0.6594 - acc: 0.7446 - val_loss: 0.6576 - val_acc: 0.7359\n",
      "Epoch 8/40\n",
      "15000/15000 [==============================] - 1s 40us/step - loss: 0.6464 - acc: 0.7559 - val_loss: 0.6448 - val_acc: 0.7386\n",
      "Epoch 9/40\n",
      "15000/15000 [==============================] - 1s 45us/step - loss: 0.6292 - acc: 0.7592 - val_loss: 0.6247 - val_acc: 0.7492\n",
      "Epoch 10/40\n",
      "15000/15000 [==============================] - 1s 41us/step - loss: 0.6056 - acc: 0.7769 - val_loss: 0.6033 - val_acc: 0.7645\n",
      "Epoch 11/40\n",
      "15000/15000 [==============================] - 1s 44us/step - loss: 0.5807 - acc: 0.7792 - val_loss: 0.5830 - val_acc: 0.7588\n",
      "Epoch 12/40\n",
      "15000/15000 [==============================] - 1s 44us/step - loss: 0.5553 - acc: 0.7935 - val_loss: 0.5561 - val_acc: 0.7870\n",
      "Epoch 13/40\n",
      "15000/15000 [==============================] - 1s 41us/step - loss: 0.5271 - acc: 0.8121 - val_loss: 0.5319 - val_acc: 0.7943\n",
      "Epoch 14/40\n",
      "15000/15000 [==============================] - 1s 40us/step - loss: 0.4994 - acc: 0.8240 - val_loss: 0.5081 - val_acc: 0.8057\n",
      "Epoch 15/40\n",
      "15000/15000 [==============================] - 1s 36us/step - loss: 0.4722 - acc: 0.8339 - val_loss: 0.4834 - val_acc: 0.8143\n",
      "Epoch 16/40\n",
      "15000/15000 [==============================] - 1s 37us/step - loss: 0.4463 - acc: 0.8432 - val_loss: 0.4605 - val_acc: 0.8263\n",
      "Epoch 17/40\n",
      "15000/15000 [==============================] - 1s 36us/step - loss: 0.4210 - acc: 0.8547 - val_loss: 0.4400 - val_acc: 0.8344\n",
      "Epoch 18/40\n",
      "15000/15000 [==============================] - 1s 36us/step - loss: 0.3983 - acc: 0.8635 - val_loss: 0.4210 - val_acc: 0.8423\n",
      "Epoch 19/40\n",
      "15000/15000 [==============================] - 1s 38us/step - loss: 0.3778 - acc: 0.8691 - val_loss: 0.4046 - val_acc: 0.8466\n",
      "Epoch 20/40\n",
      "15000/15000 [==============================] - 1s 39us/step - loss: 0.3590 - acc: 0.8777 - val_loss: 0.3900 - val_acc: 0.8514\n",
      "Epoch 21/40\n",
      "15000/15000 [==============================] - 1s 37us/step - loss: 0.3423 - acc: 0.8829 - val_loss: 0.3771 - val_acc: 0.8559\n",
      "Epoch 22/40\n",
      "15000/15000 [==============================] - 1s 37us/step - loss: 0.3270 - acc: 0.8879 - val_loss: 0.3659 - val_acc: 0.8597\n",
      "Epoch 23/40\n",
      "15000/15000 [==============================] - 1s 40us/step - loss: 0.3136 - acc: 0.8917 - val_loss: 0.3565 - val_acc: 0.8632\n",
      "Epoch 24/40\n",
      "15000/15000 [==============================] - 1s 38us/step - loss: 0.3008 - acc: 0.8955 - val_loss: 0.3476 - val_acc: 0.8663\n",
      "Epoch 25/40\n",
      "15000/15000 [==============================] - 1s 37us/step - loss: 0.2894 - acc: 0.9004 - val_loss: 0.3400 - val_acc: 0.8677\n",
      "Epoch 26/40\n",
      "15000/15000 [==============================] - 1s 37us/step - loss: 0.2788 - acc: 0.9030 - val_loss: 0.3343 - val_acc: 0.8698\n",
      "Epoch 27/40\n",
      "15000/15000 [==============================] - 1s 38us/step - loss: 0.2696 - acc: 0.9059 - val_loss: 0.3275 - val_acc: 0.8712\n",
      "Epoch 28/40\n",
      "15000/15000 [==============================] - 1s 37us/step - loss: 0.2600 - acc: 0.9097 - val_loss: 0.3220 - val_acc: 0.8733\n",
      "Epoch 29/40\n",
      "15000/15000 [==============================] - 1s 38us/step - loss: 0.2518 - acc: 0.9123 - val_loss: 0.3182 - val_acc: 0.8748\n",
      "Epoch 30/40\n",
      "15000/15000 [==============================] - 1s 36us/step - loss: 0.2450 - acc: 0.9138 - val_loss: 0.3133 - val_acc: 0.8765\n",
      "Epoch 31/40\n",
      "15000/15000 [==============================] - 1s 37us/step - loss: 0.2367 - acc: 0.9170 - val_loss: 0.3101 - val_acc: 0.8777\n",
      "Epoch 32/40\n",
      "15000/15000 [==============================] - 1s 36us/step - loss: 0.2304 - acc: 0.9191 - val_loss: 0.3067 - val_acc: 0.8789\n",
      "Epoch 33/40\n",
      "15000/15000 [==============================] - 1s 36us/step - loss: 0.2230 - acc: 0.9213 - val_loss: 0.3038 - val_acc: 0.8803\n",
      "Epoch 34/40\n",
      "15000/15000 [==============================] - 1s 36us/step - loss: 0.2169 - acc: 0.9245 - val_loss: 0.3020 - val_acc: 0.8805\n",
      "Epoch 35/40\n",
      "15000/15000 [==============================] - 1s 36us/step - loss: 0.2117 - acc: 0.9262 - val_loss: 0.2993 - val_acc: 0.8810\n",
      "Epoch 36/40\n",
      "15000/15000 [==============================] - 1s 35us/step - loss: 0.2054 - acc: 0.9289 - val_loss: 0.2973 - val_acc: 0.8815\n",
      "Epoch 37/40\n",
      "15000/15000 [==============================] - 1s 36us/step - loss: 0.2001 - acc: 0.9299 - val_loss: 0.2955 - val_acc: 0.8828\n",
      "Epoch 38/40\n",
      "15000/15000 [==============================] - 1s 36us/step - loss: 0.1950 - acc: 0.9324 - val_loss: 0.2943 - val_acc: 0.8834\n",
      "Epoch 39/40\n",
      "15000/15000 [==============================] - 1s 42us/step - loss: 0.1897 - acc: 0.9357 - val_loss: 0.2927 - val_acc: 0.8835\n",
      "Epoch 40/40\n",
      "15000/15000 [==============================] - 1s 41us/step - loss: 0.1850 - acc: 0.9374 - val_loss: 0.2915 - val_acc: 0.8838\n"
     ]
    }
   ],
   "source": [
    "# train model\n",
    "history = model.fit(partial_x_train,\n",
    "                   partial_y_train,\n",
    "                   epochs=40,\n",
    "                   batch_size=512,\n",
    "                   validation_data=(x_val, y_val),\n",
    "                   verbose=1)"
   ]
  },
  {
   "cell_type": "code",
   "execution_count": 36,
   "metadata": {},
   "outputs": [
    {
     "name": "stdout",
     "output_type": "stream",
     "text": [
      "25000/25000 [==============================] - 0s 18us/step\n",
      "[0.305962966299057, 0.87484]\n"
     ]
    }
   ],
   "source": [
    "results = model.evaluate(test_data, test_lebels)\n",
    "print(results)"
   ]
  },
  {
   "cell_type": "code",
   "execution_count": 39,
   "metadata": {},
   "outputs": [
    {
     "data": {
      "text/plain": [
       "dict_keys(['val_loss', 'val_acc', 'loss', 'acc'])"
      ]
     },
     "execution_count": 39,
     "metadata": {},
     "output_type": "execute_result"
    }
   ],
   "source": [
    "# visualize result\n",
    "history_dict = history.history\n",
    "history_dict.keys()"
   ]
  },
  {
   "cell_type": "code",
   "execution_count": 42,
   "metadata": {},
   "outputs": [
    {
     "data": {
      "text/plain": [
       "[<matplotlib.lines.Line2D at 0x12c9fb2b0>]"
      ]
     },
     "execution_count": 42,
     "metadata": {},
     "output_type": "execute_result"
    },
    {
     "data": {
      "image/png": "[encoded data removed]",
      "text/plain": [
       "<Figure size 432x288 with 1 Axes>"
      ]
     },
     "metadata": {},
     "output_type": "display_data"
    }
   ],
   "source": [
    "acc = history_dict['acc']\n",
    "val_acc = history_dict['val_acc']\n",
    "loss = history_dict['loss']\n",
    "val_loss = history_dict['val_loss']\n",
    "\n",
    "epochs = range(1, len(acc) + 1)\n",
    "\n",
    "plt.plot(epochs, loss, 'bo', label='train loss')\n",
    "plt.plot(epochs, val_loss, 'b', label='validation loss')"
   ]
  },
  {
   "cell_type": "code",
   "execution_count": 43,
   "metadata": {},
   "outputs": [
    {
     "data": {
      "text/plain": [
       "[<matplotlib.lines.Line2D at 0x12ca7ca20>]"
      ]
     },
     "execution_count": 43,
     "metadata": {},
     "output_type": "execute_result"
    },
    {
     "data": {
      "image/png": "[encoded data removed]",
      "text/plain": [
       "<Figure size 432x288 with 1 Axes>"
      ]
     },
     "metadata": {},
     "output_type": "display_data"
    }
   ],
   "source": [
    "plt.plot(epochs, acc, 'bo', label='train accuracy')\n",
    "plt.plot(epochs, val_acc, 'b', label='validation accuracy')"
   ]
  },
  {
   "cell_type": "code",
   "execution_count": null,
   "metadata": {},
   "outputs": [],
   "source": []
  }
 ],
 "metadata": {
  "kernelspec": {
   "display_name": "Python 3",
   "language": "python",
   "name": "python3"
  },
  "language_info": {
   "codemirror_mode": {
    "name": "ipython",
    "version": 3
   },
   "file_extension": ".py",
   "mimetype": "text/x-python",
   "name": "python",
   "nbconvert_exporter": "python",
   "pygments_lexer": "ipython3",
   "version": "3.6.0"
  }
 },
 "nbformat": 4,
 "nbformat_minor": 2
}
