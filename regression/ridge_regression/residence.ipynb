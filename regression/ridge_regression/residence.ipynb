{
 "cells": [
  {
   "cell_type": "markdown",
   "metadata": {},
   "source": [
    "# Ridge regression\n",
    "add L2 regularization term to cost function"
   ]
  },
  {
   "cell_type": "code",
   "execution_count": 1,
   "metadata": {},
   "outputs": [],
   "source": [
    "import numpy as np\n",
    "import pandas as pd\n",
    "from matplotlib import pyplot as plt\n",
    "from sklearn import linear_model, datasets, cross_validation"
   ]
  },
  {
   "cell_type": "code",
   "execution_count": 5,
   "metadata": {},
   "outputs": [],
   "source": [
    "# datasets\n",
    "boston = datasets.load_boston()\n",
    "data = boston.data\n",
    "target = boston.target\n",
    "x_train, x_test, y_train, y_test = cross_validation.train_test_split(data, target, test_size=0.2)"
   ]
  },
  {
   "cell_type": "code",
   "execution_count": 21,
   "metadata": {},
   "outputs": [
    {
     "data": {
      "text/plain": [
       "Ridge(alpha=1.0, copy_X=True, fit_intercept=True, max_iter=None,\n",
       "   normalize=False, random_state=None, solver='auto', tol=0.001)"
      ]
     },
     "execution_count": 21,
     "metadata": {},
     "output_type": "execute_result"
    }
   ],
   "source": [
    "# define model\n",
    "model = linear_model.Ridge(alpha=1.0)\n",
    "model.fit(x_train, y_train)"
   ]
  },
  {
   "cell_type": "code",
   "execution_count": 22,
   "metadata": {},
   "outputs": [
    {
     "name": "stdout",
     "output_type": "stream",
     "text": [
      "19.822190013923926\n",
      "[-1.02467275e-01  5.73494319e-02 -5.71244270e-03  1.92386560e+00\n",
      " -1.03094322e+01  3.33806179e+00 -8.22167035e-04 -1.42200049e+00\n",
      "  3.03853320e-01 -1.26939146e-02 -8.32930802e-01  9.96107585e-03\n",
      " -5.99081520e-01]\n"
     ]
    }
   ],
   "source": [
    "# predict for test set\n",
    "y_pred = model.predict(x_test)\n",
    "print(np.mean((y_pred - y_test)**2))\n",
    "print(model.coef_)"
   ]
  },
  {
   "cell_type": "code",
   "execution_count": 23,
   "metadata": {},
   "outputs": [
    {
     "data": {
      "text/plain": [
       "LinearRegression(copy_X=True, fit_intercept=True, n_jobs=1, normalize=False)"
      ]
     },
     "execution_count": 23,
     "metadata": {},
     "output_type": "execute_result"
    }
   ],
   "source": [
    "# linear regression\n",
    "model_l = linear_model.LinearRegression()\n",
    "model_l.fit(x_train, y_train)"
   ]
  },
  {
   "cell_type": "code",
   "execution_count": 24,
   "metadata": {},
   "outputs": [
    {
     "name": "stdout",
     "output_type": "stream",
     "text": [
      "19.666581156998216\n",
      "[-1.06446116e-01  5.61459693e-02  3.47899554e-02  2.16209691e+00\n",
      " -1.84908000e+01  3.27759494e+00  7.04083277e-03 -1.53412749e+00\n",
      "  3.22856037e-01 -1.21758363e-02 -9.42201760e-01  9.53050841e-03\n",
      " -5.86782791e-01]\n"
     ]
    }
   ],
   "source": [
    "y_pred_l = model_l.predict(x_test)\n",
    "print(np.mean((y_pred_l - y_test)**2))\n",
    "print(model_l.coef_)"
   ]
  },
  {
   "cell_type": "code",
   "execution_count": null,
   "metadata": {},
   "outputs": [],
   "source": []
  }
 ],
 "metadata": {
  "kernelspec": {
   "display_name": "Python 3",
   "language": "python",
   "name": "python3"
  },
  "language_info": {
   "codemirror_mode": {
    "name": "ipython",
    "version": 3
   },
   "file_extension": ".py",
   "mimetype": "text/x-python",
   "name": "python",
   "nbconvert_exporter": "python",
   "pygments_lexer": "ipython3",
   "version": "3.7.0"
  }
 },
 "nbformat": 4,
 "nbformat_minor": 2
}
