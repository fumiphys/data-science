{
 "cells": [
  {
   "cell_type": "markdown",
   "metadata": {},
   "source": [
    "# Lasso Regression\n",
    "expansion of functon by lasso regression  \n",
    "linear regression version: linear_regression/expand.ipynb"
   ]
  },
  {
   "cell_type": "code",
   "execution_count": 1,
   "metadata": {},
   "outputs": [],
   "source": [
    "import numpy as np\n",
    "from matplotlib import pyplot as plt\n",
    "from sklearn import linear_model\n",
    "%matplotlib inline"
   ]
  },
  {
   "cell_type": "code",
   "execution_count": 2,
   "metadata": {},
   "outputs": [],
   "source": [
    "# create data\n",
    "def f(x):\n",
    "    return 2. * np.sin(x) + np.sin(2. * x) - 3. * np.sin(3 * x)\n",
    "\n",
    "def make_data(x, f, ep):\n",
    "    return f(x) + np.random.normal(0, ep, x.shape[0])"
   ]
  },
  {
   "cell_type": "code",
   "execution_count": 10,
   "metadata": {},
   "outputs": [],
   "source": [
    "x = np.arange(-3, 3, 0.1)\n",
    "y = make_data(x, f, 0.3)"
   ]
  },
  {
   "cell_type": "code",
   "execution_count": 11,
   "metadata": {},
   "outputs": [
    {
     "data": {
      "text/plain": [
       "<matplotlib.collections.PathCollection at 0x113799e10>"
      ]
     },
     "execution_count": 11,
     "metadata": {},
     "output_type": "execute_result"
    },
    {
     "data": {
      "image/png": "[encoded data removed]",
      "text/plain": [
       "<Figure size 432x288 with 1 Axes>"
      ]
     },
     "metadata": {},
     "output_type": "display_data"
    }
   ],
   "source": [
    "plt.scatter(x, y)"
   ]
  },
  {
   "cell_type": "code",
   "execution_count": 16,
   "metadata": {},
   "outputs": [],
   "source": [
    "dim = 10\n",
    "sdata = []\n",
    "for i in range(0, dim):\n",
    "    sdata.append(np.sin((i + 1) * x))\n",
    "sdata = np.array(sdata).T"
   ]
  },
  {
   "cell_type": "code",
   "execution_count": 17,
   "metadata": {},
   "outputs": [
    {
     "data": {
      "text/plain": [
       "array([[-1.41120008e-01,  2.79415498e-01, -4.12118485e-01,\n",
       "         5.36572918e-01, -6.50287840e-01,  7.50987247e-01,\n",
       "        -8.36655639e-01,  9.05578362e-01, -9.56375928e-01,\n",
       "         9.88031624e-01],\n",
       "       [-2.39249329e-01,  4.64602179e-01, -6.62969230e-01,\n",
       "         8.22828595e-01, -9.34895056e-01,  9.92659380e-01,\n",
       "        -9.92766406e-01,  9.35209915e-01, -8.23333001e-01,\n",
       "         6.63633884e-01],\n",
       "       [-3.34988150e-01,  6.31266638e-01, -8.54598908e-01,\n",
       "         9.79177729e-01, -9.90607356e-01,  8.87567034e-01,\n",
       "        -6.81963620e-01,  3.97555683e-01, -6.72080725e-02,\n",
       "        -2.70905788e-01],\n",
       "       [-4.27379880e-01,  7.72764488e-01, -9.69889811e-01,\n",
       "         9.80936230e-01, -8.03784427e-01,  4.72421986e-01,\n",
       "        -5.04226878e-02, -3.81250492e-01,  7.39778585e-01,\n",
       "        -9.56375928e-01],\n",
       "       [-5.15501372e-01,  8.83454656e-01, -9.98543345e-01,\n",
       "         8.27826469e-01, -4.20167037e-01, -1.07753652e-01,\n",
       "         6.04832822e-01, -9.28795234e-01,  9.86915558e-01,\n",
       "        -7.62558450e-01],\n",
       "       [-5.98472144e-01,  9.58924275e-01, -9.37999977e-01,\n",
       "         5.44021111e-01,  6.63218974e-02, -6.50287840e-01,\n",
       "         9.75626005e-01, -9.12945251e-01,  4.87174512e-01,\n",
       "         1.32351750e-01],\n",
       "       [-6.75463181e-01,  9.96164609e-01, -7.93667864e-01,\n",
       "         1.74326781e-01,  5.36572918e-01, -9.65657777e-01,\n",
       "         8.87567034e-01, -3.43314929e-01, -3.81250492e-01,\n",
       "         9.05578362e-01],\n",
       "       [-7.45705212e-01,  9.93691004e-01, -5.78439764e-01,\n",
       "        -2.22889914e-01,  8.75452175e-01, -9.43695669e-01,\n",
       "         3.82071417e-01,  4.34565622e-01, -9.61152725e-01,\n",
       "         8.46220404e-01],\n",
       "       [-8.08496404e-01,  9.51602074e-01, -3.11541364e-01,\n",
       "        -5.84917193e-01,  9.99990207e-01, -5.92073515e-01,\n",
       "        -3.03118357e-01,  9.48844498e-01, -8.13673738e-01,\n",
       "         8.85130929e-03],\n",
       "       [-8.63209367e-01,  8.71575772e-01, -1.68139005e-02,\n",
       "        -8.54598908e-01,  8.79695760e-01, -3.36230472e-02,\n",
       "        -8.45746831e-01,  8.87567034e-01, -5.04226878e-02,\n",
       "        -8.36655639e-01],\n",
       "       [-9.09297427e-01,  7.56802495e-01,  2.79415498e-01,\n",
       "        -9.89358247e-01,  5.44021111e-01,  5.36572918e-01,\n",
       "        -9.90607356e-01,  2.87903317e-01,  7.50987247e-01,\n",
       "        -9.12945251e-01],\n",
       "       [-9.46300088e-01,  6.11857891e-01,  5.50685543e-01,\n",
       "        -9.67919672e-01,  7.51511205e-02,  9.19328526e-01,\n",
       "        -6.69569762e-01, -4.86398689e-01,  9.84065005e-01,\n",
       "        -1.49877210e-01],\n",
       "       [-9.73847631e-01,  4.42520443e-01,  7.72764488e-01,\n",
       "        -7.93667864e-01, -4.12118485e-01,  9.80936230e-01,\n",
       "        -3.36230472e-02, -9.65657777e-01,  4.72421986e-01,\n",
       "         7.50987247e-01],\n",
       "       [-9.91664810e-01,  2.55541102e-01,  9.25814682e-01,\n",
       "        -4.94113351e-01, -7.98487113e-01,  6.99874688e-01,\n",
       "         6.18137112e-01, -8.59161815e-01, -3.96740573e-01,\n",
       "         9.61397492e-01],\n",
       "       [-9.99573603e-01,  5.83741434e-02,  9.96164609e-01,\n",
       "        -1.16549205e-01, -9.89358247e-01,  1.74326781e-01,\n",
       "         9.79177729e-01, -2.31509825e-01, -9.65657777e-01,\n",
       "         2.87903317e-01],\n",
       "       [-9.97494987e-01, -1.41120008e-01,  9.77530118e-01,\n",
       "         2.79415498e-01, -9.37999977e-01, -4.12118485e-01,\n",
       "         8.79695760e-01,  5.36572918e-01, -8.03784427e-01,\n",
       "        -6.50287840e-01],\n",
       "       [-9.85449730e-01, -3.34988150e-01,  8.71575772e-01,\n",
       "         6.31266638e-01, -6.56986599e-01, -8.54598908e-01,\n",
       "         3.66479129e-01,  9.79177729e-01, -3.36230472e-02,\n",
       "        -9.90607356e-01],\n",
       "       [-9.63558185e-01, -5.15501372e-01,  6.87766159e-01,\n",
       "         8.83454656e-01, -2.15119988e-01, -9.98543345e-01,\n",
       "        -3.19098362e-01,  8.27826469e-01,  7.61983584e-01,\n",
       "        -4.20167037e-01],\n",
       "       [-9.32039086e-01, -6.75463181e-01,  4.42520443e-01,\n",
       "         9.96164609e-01,  2.79415498e-01, -7.93667864e-01,\n",
       "        -8.54598908e-01,  1.74326781e-01,  9.80936230e-01,\n",
       "         5.36572918e-01],\n",
       "       [-8.91207360e-01, -8.08496404e-01,  1.57745694e-01,\n",
       "         9.51602074e-01,  7.05540326e-01, -3.11541364e-01,\n",
       "        -9.88168234e-01, -5.84917193e-01,  4.57535894e-01,\n",
       "         9.99990207e-01],\n",
       "       [-8.41470985e-01, -9.09297427e-01, -1.41120008e-01,\n",
       "         7.56802495e-01,  9.58924275e-01,  2.79415498e-01,\n",
       "        -6.56986599e-01, -9.89358247e-01, -4.12118485e-01,\n",
       "         5.44021111e-01],\n",
       "       [-7.83326910e-01, -9.73847631e-01, -4.27379880e-01,\n",
       "         4.42520443e-01,  9.77530118e-01,  7.72764488e-01,\n",
       "        -1.68139005e-02, -7.93667864e-01, -9.69889811e-01,\n",
       "        -4.12118485e-01],\n",
       "       [-7.17356091e-01, -9.99573603e-01, -6.75463181e-01,\n",
       "         5.83741434e-02,  7.56802495e-01,  9.96164609e-01,\n",
       "         6.31266638e-01, -1.16549205e-01, -7.93667864e-01,\n",
       "        -9.89358247e-01],\n",
       "       [-6.44217687e-01, -9.85449730e-01, -8.63209367e-01,\n",
       "        -3.34988150e-01,  3.50783228e-01,  8.71575772e-01,\n",
       "         9.82452613e-01,  6.31266638e-01, -1.68139005e-02,\n",
       "        -6.56986599e-01],\n",
       "       [-5.64642473e-01, -9.32039086e-01, -9.73847631e-01,\n",
       "        -6.75463181e-01, -1.41120008e-01,  4.42520443e-01,\n",
       "         8.71575772e-01,  9.96164609e-01,  7.72764488e-01,\n",
       "         2.79415498e-01],\n",
       "       [-4.79425539e-01, -8.41470985e-01, -9.97494987e-01,\n",
       "        -9.09297427e-01, -5.98472144e-01, -1.41120008e-01,\n",
       "         3.50783228e-01,  7.56802495e-01,  9.77530118e-01,\n",
       "         9.58924275e-01],\n",
       "       [-3.89418342e-01, -7.17356091e-01, -9.32039086e-01,\n",
       "        -9.99573603e-01, -9.09297427e-01, -6.75463181e-01,\n",
       "        -3.34988150e-01,  5.83741434e-02,  4.42520443e-01,\n",
       "         7.56802495e-01],\n",
       "       [-2.95520207e-01, -5.64642473e-01, -7.83326910e-01,\n",
       "        -9.32039086e-01, -9.97494987e-01, -9.73847631e-01,\n",
       "        -8.63209367e-01, -6.75463181e-01, -4.27379880e-01,\n",
       "        -1.41120008e-01],\n",
       "       [-1.98669331e-01, -3.89418342e-01, -5.64642473e-01,\n",
       "        -7.17356091e-01, -8.41470985e-01, -9.32039086e-01,\n",
       "        -9.85449730e-01, -9.99573603e-01, -9.73847631e-01,\n",
       "        -9.09297427e-01],\n",
       "       [-9.98334166e-02, -1.98669331e-01, -2.95520207e-01,\n",
       "        -3.89418342e-01, -4.79425539e-01, -5.64642473e-01,\n",
       "        -6.44217687e-01, -7.17356091e-01, -7.83326910e-01,\n",
       "        -8.41470985e-01],\n",
       "       [ 2.66453526e-15,  5.32907052e-15,  7.99360578e-15,\n",
       "         1.06581410e-14,  1.33226763e-14,  1.59872116e-14,\n",
       "         1.86517468e-14,  2.13162821e-14,  2.39808173e-14,\n",
       "         2.66453526e-14],\n",
       "       [ 9.98334166e-02,  1.98669331e-01,  2.95520207e-01,\n",
       "         3.89418342e-01,  4.79425539e-01,  5.64642473e-01,\n",
       "         6.44217687e-01,  7.17356091e-01,  7.83326910e-01,\n",
       "         8.41470985e-01],\n",
       "       [ 1.98669331e-01,  3.89418342e-01,  5.64642473e-01,\n",
       "         7.17356091e-01,  8.41470985e-01,  9.32039086e-01,\n",
       "         9.85449730e-01,  9.99573603e-01,  9.73847631e-01,\n",
       "         9.09297427e-01],\n",
       "       [ 2.95520207e-01,  5.64642473e-01,  7.83326910e-01,\n",
       "         9.32039086e-01,  9.97494987e-01,  9.73847631e-01,\n",
       "         8.63209367e-01,  6.75463181e-01,  4.27379880e-01,\n",
       "         1.41120008e-01],\n",
       "       [ 3.89418342e-01,  7.17356091e-01,  9.32039086e-01,\n",
       "         9.99573603e-01,  9.09297427e-01,  6.75463181e-01,\n",
       "         3.34988150e-01, -5.83741434e-02, -4.42520443e-01,\n",
       "        -7.56802495e-01],\n",
       "       [ 4.79425539e-01,  8.41470985e-01,  9.97494987e-01,\n",
       "         9.09297427e-01,  5.98472144e-01,  1.41120008e-01,\n",
       "        -3.50783228e-01, -7.56802495e-01, -9.77530118e-01,\n",
       "        -9.58924275e-01],\n",
       "       [ 5.64642473e-01,  9.32039086e-01,  9.73847631e-01,\n",
       "         6.75463181e-01,  1.41120008e-01, -4.42520443e-01,\n",
       "        -8.71575772e-01, -9.96164609e-01, -7.72764488e-01,\n",
       "        -2.79415498e-01],\n",
       "       [ 6.44217687e-01,  9.85449730e-01,  8.63209367e-01,\n",
       "         3.34988150e-01, -3.50783228e-01, -8.71575772e-01,\n",
       "        -9.82452613e-01, -6.31266638e-01,  1.68139005e-02,\n",
       "         6.56986599e-01],\n",
       "       [ 7.17356091e-01,  9.99573603e-01,  6.75463181e-01,\n",
       "        -5.83741434e-02, -7.56802495e-01, -9.96164609e-01,\n",
       "        -6.31266638e-01,  1.16549205e-01,  7.93667864e-01,\n",
       "         9.89358247e-01],\n",
       "       [ 7.83326910e-01,  9.73847631e-01,  4.27379880e-01,\n",
       "        -4.42520443e-01, -9.77530118e-01, -7.72764488e-01,\n",
       "         1.68139005e-02,  7.93667864e-01,  9.69889811e-01,\n",
       "         4.12118485e-01],\n",
       "       [ 8.41470985e-01,  9.09297427e-01,  1.41120008e-01,\n",
       "        -7.56802495e-01, -9.58924275e-01, -2.79415498e-01,\n",
       "         6.56986599e-01,  9.89358247e-01,  4.12118485e-01,\n",
       "        -5.44021111e-01],\n",
       "       [ 8.91207360e-01,  8.08496404e-01, -1.57745694e-01,\n",
       "        -9.51602074e-01, -7.05540326e-01,  3.11541364e-01,\n",
       "         9.88168234e-01,  5.84917193e-01, -4.57535894e-01,\n",
       "        -9.99990207e-01],\n",
       "       [ 9.32039086e-01,  6.75463181e-01, -4.42520443e-01,\n",
       "        -9.96164609e-01, -2.79415498e-01,  7.93667864e-01,\n",
       "         8.54598908e-01, -1.74326781e-01, -9.80936230e-01,\n",
       "        -5.36572918e-01],\n",
       "       [ 9.63558185e-01,  5.15501372e-01, -6.87766159e-01,\n",
       "        -8.83454656e-01,  2.15119988e-01,  9.98543345e-01,\n",
       "         3.19098362e-01, -8.27826469e-01, -7.61983584e-01,\n",
       "         4.20167037e-01],\n",
       "       [ 9.85449730e-01,  3.34988150e-01, -8.71575772e-01,\n",
       "        -6.31266638e-01,  6.56986599e-01,  8.54598908e-01,\n",
       "        -3.66479129e-01, -9.79177729e-01,  3.36230472e-02,\n",
       "         9.90607356e-01],\n",
       "       [ 9.97494987e-01,  1.41120008e-01, -9.77530118e-01,\n",
       "        -2.79415498e-01,  9.37999977e-01,  4.12118485e-01,\n",
       "        -8.79695760e-01, -5.36572918e-01,  8.03784427e-01,\n",
       "         6.50287840e-01],\n",
       "       [ 9.99573603e-01, -5.83741434e-02, -9.96164609e-01,\n",
       "         1.16549205e-01,  9.89358247e-01, -1.74326781e-01,\n",
       "        -9.79177729e-01,  2.31509825e-01,  9.65657777e-01,\n",
       "        -2.87903317e-01],\n",
       "       [ 9.91664810e-01, -2.55541102e-01, -9.25814682e-01,\n",
       "         4.94113351e-01,  7.98487113e-01, -6.99874688e-01,\n",
       "        -6.18137112e-01,  8.59161815e-01,  3.96740573e-01,\n",
       "        -9.61397492e-01],\n",
       "       [ 9.73847631e-01, -4.42520443e-01, -7.72764488e-01,\n",
       "         7.93667864e-01,  4.12118485e-01, -9.80936230e-01,\n",
       "         3.36230472e-02,  9.65657777e-01, -4.72421986e-01,\n",
       "        -7.50987247e-01],\n",
       "       [ 9.46300088e-01, -6.11857891e-01, -5.50685543e-01,\n",
       "         9.67919672e-01, -7.51511205e-02, -9.19328526e-01,\n",
       "         6.69569762e-01,  4.86398689e-01, -9.84065005e-01,\n",
       "         1.49877210e-01],\n",
       "       [ 9.09297427e-01, -7.56802495e-01, -2.79415498e-01,\n",
       "         9.89358247e-01, -5.44021111e-01, -5.36572918e-01,\n",
       "         9.90607356e-01, -2.87903317e-01, -7.50987247e-01,\n",
       "         9.12945251e-01],\n",
       "       [ 8.63209367e-01, -8.71575772e-01,  1.68139005e-02,\n",
       "         8.54598908e-01, -8.79695760e-01,  3.36230472e-02,\n",
       "         8.45746831e-01, -8.87567034e-01,  5.04226878e-02,\n",
       "         8.36655639e-01],\n",
       "       [ 8.08496404e-01, -9.51602074e-01,  3.11541364e-01,\n",
       "         5.84917193e-01, -9.99990207e-01,  5.92073515e-01,\n",
       "         3.03118357e-01, -9.48844498e-01,  8.13673738e-01,\n",
       "        -8.85130929e-03],\n",
       "       [ 7.45705212e-01, -9.93691004e-01,  5.78439764e-01,\n",
       "         2.22889914e-01, -8.75452175e-01,  9.43695669e-01,\n",
       "        -3.82071417e-01, -4.34565622e-01,  9.61152725e-01,\n",
       "        -8.46220404e-01],\n",
       "       [ 6.75463181e-01, -9.96164609e-01,  7.93667864e-01,\n",
       "        -1.74326781e-01, -5.36572918e-01,  9.65657777e-01,\n",
       "        -8.87567034e-01,  3.43314929e-01,  3.81250492e-01,\n",
       "        -9.05578362e-01],\n",
       "       [ 5.98472144e-01, -9.58924275e-01,  9.37999977e-01,\n",
       "        -5.44021111e-01, -6.63218974e-02,  6.50287840e-01,\n",
       "        -9.75626005e-01,  9.12945251e-01, -4.87174512e-01,\n",
       "        -1.32351750e-01],\n",
       "       [ 5.15501372e-01, -8.83454656e-01,  9.98543345e-01,\n",
       "        -8.27826469e-01,  4.20167037e-01,  1.07753652e-01,\n",
       "        -6.04832822e-01,  9.28795234e-01, -9.86915558e-01,\n",
       "         7.62558450e-01],\n",
       "       [ 4.27379880e-01, -7.72764488e-01,  9.69889811e-01,\n",
       "        -9.80936230e-01,  8.03784427e-01, -4.72421986e-01,\n",
       "         5.04226878e-02,  3.81250492e-01, -7.39778585e-01,\n",
       "         9.56375928e-01],\n",
       "       [ 3.34988150e-01, -6.31266638e-01,  8.54598908e-01,\n",
       "        -9.79177729e-01,  9.90607356e-01, -8.87567034e-01,\n",
       "         6.81963620e-01, -3.97555683e-01,  6.72080725e-02,\n",
       "         2.70905788e-01],\n",
       "       [ 2.39249329e-01, -4.64602179e-01,  6.62969230e-01,\n",
       "        -8.22828595e-01,  9.34895056e-01, -9.92659380e-01,\n",
       "         9.92766406e-01, -9.35209915e-01,  8.23333001e-01,\n",
       "        -6.63633884e-01]])"
      ]
     },
     "execution_count": 17,
     "metadata": {},
     "output_type": "execute_result"
    }
   ],
   "source": [
    "sdata"
   ]
  },
  {
   "cell_type": "code",
   "execution_count": 45,
   "metadata": {},
   "outputs": [
    {
     "data": {
      "text/plain": [
       "Lasso(alpha=0.01, copy_X=True, fit_intercept=True, max_iter=1000,\n",
       "   normalize=False, positive=False, precompute=False, random_state=None,\n",
       "   selection='cyclic', tol=0.0001, warm_start=False)"
      ]
     },
     "execution_count": 45,
     "metadata": {},
     "output_type": "execute_result"
    }
   ],
   "source": [
    "# define model\n",
    "model = linear_model.Lasso(alpha=0.01)\n",
    "model.fit(sdata, y)"
   ]
  },
  {
   "cell_type": "code",
   "execution_count": 46,
   "metadata": {},
   "outputs": [
    {
     "name": "stdout",
     "output_type": "stream",
     "text": [
      "[ 2.01126270e+00  9.53446708e-01 -3.04284099e+00  0.00000000e+00\n",
      "  3.01432244e-02  1.16100748e-02  1.31824268e-03 -4.76516193e-04\n",
      " -0.00000000e+00 -8.46340740e-02]\n"
     ]
    }
   ],
   "source": [
    "print(model.coef_)"
   ]
  },
  {
   "cell_type": "code",
   "execution_count": 47,
   "metadata": {},
   "outputs": [],
   "source": [
    "# view model\n",
    "xp = np.arange(-3, 3, 0.01)\n",
    "sdatap = []\n",
    "for i in range(0, dim):\n",
    "    sdatap.append(np.sin((i + 1) * xp))\n",
    "sdatap = np.array(sdatap).T"
   ]
  },
  {
   "cell_type": "code",
   "execution_count": 48,
   "metadata": {},
   "outputs": [],
   "source": [
    "yp = model.predict(sdatap)"
   ]
  },
  {
   "cell_type": "code",
   "execution_count": 49,
   "metadata": {},
   "outputs": [
    {
     "data": {
      "text/plain": [
       "[<matplotlib.lines.Line2D at 0x114109550>]"
      ]
     },
     "execution_count": 49,
     "metadata": {},
     "output_type": "execute_result"
    },
    {
     "data": {
      "image/png": "[encoded data removed]",
      "text/plain": [
       "<Figure size 432x288 with 1 Axes>"
      ]
     },
     "metadata": {},
     "output_type": "display_data"
    }
   ],
   "source": [
    "plt.scatter(x, y, color='red')\n",
    "plt.plot(xp, yp, color='blue')"
   ]
  },
  {
   "cell_type": "code",
   "execution_count": null,
   "metadata": {},
   "outputs": [],
   "source": []
  }
 ],
 "metadata": {
  "kernelspec": {
   "display_name": "Python 3",
   "language": "python",
   "name": "python3"
  },
  "language_info": {
   "codemirror_mode": {
    "name": "ipython",
    "version": 3
   },
   "file_extension": ".py",
   "mimetype": "text/x-python",
   "name": "python",
   "nbconvert_exporter": "python",
   "pygments_lexer": "ipython3",
   "version": "3.6.0"
  }
 },
 "nbformat": 4,
 "nbformat_minor": 2
}
